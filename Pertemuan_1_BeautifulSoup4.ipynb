{
  "nbformat": 4,
  "nbformat_minor": 0,
  "metadata": {
    "colab": {
      "provenance": []
    },
    "kernelspec": {
      "name": "python3",
      "display_name": "Python 3"
    },
    "language_info": {
      "name": "python"
    }
  },
  "cells": [
    {
      "cell_type": "code",
      "execution_count": 2,
      "metadata": {
        "colab": {
          "base_uri": "https://localhost:8080/"
        },
        "id": "P4gSVDsxbM0d",
        "outputId": "c6387555-cc7e-419b-c612-0392464cae7d"
      },
      "outputs": [
        {
          "output_type": "stream",
          "name": "stdout",
          "text": [
            "Looking in indexes: https://pypi.org/simple, https://us-python.pkg.dev/colab-wheels/public/simple/\n",
            "Requirement already satisfied: beautifulsoup4 in /usr/local/lib/python3.9/dist-packages (4.11.2)\n",
            "Requirement already satisfied: soupsieve>1.2 in /usr/local/lib/python3.9/dist-packages (from beautifulsoup4) (2.4)\n"
          ]
        }
      ],
      "source": [
        "!pip install beautifulsoup4"
      ]
    },
    {
      "cell_type": "code",
      "source": [
        "html_doc = \"\"\"\n",
        "<html><head><title>The Dormouse's story</title></head>\n",
        "<body>\n",
        "<p class=\"title\"><b>The Dormouse's story</b></p>\n",
        "\n",
        "<p class=\"story\">Once upon a time there were three little sisters; and their names were\n",
        "<a href=\"http://example.com/elsie\" class=\"sister\" id=\"link1\">Elsie</a>,\n",
        "<a href=\"http://example.com/lacie\" class=\"sister\" id=\"link2\">Lacie</a> and\n",
        "<a href=\"http://example.com/tillie\" class=\"sister\" id=\"link3\">Tillie</a>;\n",
        "and they lived at the bottom of a well.</p>\n",
        "\n",
        "<p class=\"story\">...</p>\n",
        "\"\"\""
      ],
      "metadata": {
        "id": "05t4ucWbcqjr"
      },
      "execution_count": 3,
      "outputs": []
    },
    {
      "cell_type": "code",
      "source": [
        "from bs4 import BeautifulSoup\n",
        "soup = BeautifulSoup(html_doc, 'html.parser')\n",
        "\n",
        "print(soup.prettify())"
      ],
      "metadata": {
        "colab": {
          "base_uri": "https://localhost:8080/"
        },
        "id": "PDtSaKfdctSS",
        "outputId": "b4d0f6b0-8418-4c2a-a03a-c97f905f7c99"
      },
      "execution_count": 5,
      "outputs": [
        {
          "output_type": "stream",
          "name": "stdout",
          "text": [
            "<html>\n",
            " <head>\n",
            "  <title>\n",
            "   The Dormouse's story\n",
            "  </title>\n",
            " </head>\n",
            " <body>\n",
            "  <p class=\"title\">\n",
            "   <b>\n",
            "    The Dormouse's story\n",
            "   </b>\n",
            "  </p>\n",
            "  <p class=\"story\">\n",
            "   Once upon a time there were three little sisters; and their names were\n",
            "   <a class=\"sister\" href=\"http://example.com/elsie\" id=\"link1\">\n",
            "    Elsie\n",
            "   </a>\n",
            "   ,\n",
            "   <a class=\"sister\" href=\"http://example.com/lacie\" id=\"link2\">\n",
            "    Lacie\n",
            "   </a>\n",
            "   and\n",
            "   <a class=\"sister\" href=\"http://example.com/tillie\" id=\"link3\">\n",
            "    Tillie\n",
            "   </a>\n",
            "   ;\n",
            "and they lived at the bottom of a well.\n",
            "  </p>\n",
            "  <p class=\"story\">\n",
            "   ...\n",
            "  </p>\n",
            " </body>\n",
            "</html>\n"
          ]
        }
      ]
    },
    {
      "cell_type": "code",
      "source": [
        "soup.find_all('p')"
      ],
      "metadata": {
        "colab": {
          "base_uri": "https://localhost:8080/"
        },
        "id": "ZXfBxthkcxl9",
        "outputId": "eaeec915-6489-4724-8674-760fb806cadc"
      },
      "execution_count": 6,
      "outputs": [
        {
          "output_type": "execute_result",
          "data": {
            "text/plain": [
              "[<p class=\"title\"><b>The Dormouse's story</b></p>,\n",
              " <p class=\"story\">Once upon a time there were three little sisters; and their names were\n",
              " <a class=\"sister\" href=\"http://example.com/elsie\" id=\"link1\">Elsie</a>,\n",
              " <a class=\"sister\" href=\"http://example.com/lacie\" id=\"link2\">Lacie</a> and\n",
              " <a class=\"sister\" href=\"http://example.com/tillie\" id=\"link3\">Tillie</a>;\n",
              " and they lived at the bottom of a well.</p>,\n",
              " <p class=\"story\">...</p>]"
            ]
          },
          "metadata": {},
          "execution_count": 6
        }
      ]
    },
    {
      "cell_type": "code",
      "source": [
        "p_list = soup.find_all('p')"
      ],
      "metadata": {
        "id": "jh8H-XBCc14J"
      },
      "execution_count": 7,
      "outputs": []
    },
    {
      "cell_type": "code",
      "source": [
        "for p in p_list:\n",
        "  print(p)\n",
        "  print(p.string, '\\n')"
      ],
      "metadata": {
        "colab": {
          "base_uri": "https://localhost:8080/"
        },
        "id": "8vLopm_dc6vw",
        "outputId": "caf7c75e-a38d-4d4e-e3eb-fbe30f82c8a3"
      },
      "execution_count": 8,
      "outputs": [
        {
          "output_type": "stream",
          "name": "stdout",
          "text": [
            "<p class=\"title\"><b>The Dormouse's story</b></p>\n",
            "The Dormouse's story \n",
            "\n",
            "<p class=\"story\">Once upon a time there were three little sisters; and their names were\n",
            "<a class=\"sister\" href=\"http://example.com/elsie\" id=\"link1\">Elsie</a>,\n",
            "<a class=\"sister\" href=\"http://example.com/lacie\" id=\"link2\">Lacie</a> and\n",
            "<a class=\"sister\" href=\"http://example.com/tillie\" id=\"link3\">Tillie</a>;\n",
            "and they lived at the bottom of a well.</p>\n",
            "None \n",
            "\n",
            "<p class=\"story\">...</p>\n",
            "... \n",
            "\n"
          ]
        }
      ]
    },
    {
      "cell_type": "code",
      "source": [
        "a_list = soup.find_all('a')\n",
        "for a in a_list:\n",
        "  # print(a)\n",
        "  print(a.string, '\\n')"
      ],
      "metadata": {
        "colab": {
          "base_uri": "https://localhost:8080/"
        },
        "id": "AOGX5UXWdALa",
        "outputId": "63fe7a21-89bd-4098-a5b5-079236b98ca8"
      },
      "execution_count": 12,
      "outputs": [
        {
          "output_type": "stream",
          "name": "stdout",
          "text": [
            "Elsie \n",
            "\n",
            "Lacie \n",
            "\n",
            "Tillie \n",
            "\n"
          ]
        }
      ]
    },
    {
      "cell_type": "code",
      "source": [
        "!pip install urllib3"
      ],
      "metadata": {
        "colab": {
          "base_uri": "https://localhost:8080/"
        },
        "id": "T_th4pHSdkEx",
        "outputId": "8a464c9d-b2ec-4c32-9597-cfec7662619f"
      },
      "execution_count": 16,
      "outputs": [
        {
          "output_type": "stream",
          "name": "stdout",
          "text": [
            "Looking in indexes: https://pypi.org/simple, https://us-python.pkg.dev/colab-wheels/public/simple/\n",
            "Requirement already satisfied: urllib3 in /usr/local/lib/python3.9/dist-packages (1.26.15)\n"
          ]
        }
      ]
    },
    {
      "cell_type": "code",
      "source": [
        "import urllib3"
      ],
      "metadata": {
        "id": "NgotVZSDdqQ5"
      },
      "execution_count": 17,
      "outputs": []
    },
    {
      "cell_type": "code",
      "source": [
        "req = urllib3.PoolManager()\n",
        "res = req.request('GET', 'https://news.detik.com/berita/d-6654496/komisi-x-dpr-tunda-rapat-dengan-pssi-buntut-piala-dunia-u-20-batal-di-ri')\n",
        "soup = BeautifulSoup(res.data, 'html.parser')\n"
      ],
      "metadata": {
        "id": "A5mAtenufT8C"
      },
      "execution_count": 21,
      "outputs": []
    },
    {
      "cell_type": "code",
      "source": [
        "soup.prettify()"
      ],
      "metadata": {
        "id": "dtXUQLURfkyj"
      },
      "execution_count": null,
      "outputs": []
    },
    {
      "cell_type": "code",
      "source": [
        "title = soup.find('h1').string"
      ],
      "metadata": {
        "id": "S_wlNRj2ganO"
      },
      "execution_count": 23,
      "outputs": []
    },
    {
      "cell_type": "code",
      "source": [
        "title"
      ],
      "metadata": {
        "colab": {
          "base_uri": "https://localhost:8080/",
          "height": 35
        },
        "id": "e3DylHIkhAqw",
        "outputId": "7695785f-e0e1-454c-abf0-7c877b05dad8"
      },
      "execution_count": 24,
      "outputs": [
        {
          "output_type": "execute_result",
          "data": {
            "text/plain": [
              "'\\n        Komisi X DPR Tunda Rapat dengan PSSI Buntut Piala Dunia U-20 Batal di RI    '"
            ],
            "application/vnd.google.colaboratory.intrinsic+json": {
              "type": "string"
            }
          },
          "metadata": {},
          "execution_count": 24
        }
      ]
    },
    {
      "cell_type": "code",
      "source": [
        "author = soup.find('div', {'class': 'detail__author'})"
      ],
      "metadata": {
        "id": "Dl8Gw0rJhCIg"
      },
      "execution_count": 51,
      "outputs": []
    },
    {
      "cell_type": "code",
      "source": [
        "author"
      ],
      "metadata": {
        "id": "guZ-JC70ksfR"
      },
      "execution_count": 53,
      "outputs": []
    },
    {
      "cell_type": "code",
      "source": [
        "article_date = soup.find('div', {'class': 'detail__date'}).string"
      ],
      "metadata": {
        "id": "mAbO0Nsphlpm"
      },
      "execution_count": 42,
      "outputs": []
    },
    {
      "cell_type": "code",
      "source": [
        "article_date"
      ],
      "metadata": {
        "colab": {
          "base_uri": "https://localhost:8080/",
          "height": 35
        },
        "id": "L2CHdDrHij-X",
        "outputId": "5349fa12-a4b7-404d-823a-1bb253154959"
      },
      "execution_count": 44,
      "outputs": [
        {
          "output_type": "execute_result",
          "data": {
            "text/plain": [
              "'Selasa, 04 Apr 2023 09:47 WIB'"
            ],
            "application/vnd.google.colaboratory.intrinsic+json": {
              "type": "string"
            }
          },
          "metadata": {},
          "execution_count": 44
        }
      ]
    },
    {
      "cell_type": "code",
      "source": [
        "news_tags = soup.findAll('a', {'class': 'nav__item'})"
      ],
      "metadata": {
        "id": "XbG9rDVtjNYi"
      },
      "execution_count": 54,
      "outputs": []
    },
    {
      "cell_type": "code",
      "source": [
        "news_tags2 = [tag.string for tag in news_tags]"
      ],
      "metadata": {
        "id": "GD77ib7qkIvE"
      },
      "execution_count": 55,
      "outputs": []
    },
    {
      "cell_type": "code",
      "source": [
        "news_tags2"
      ],
      "metadata": {
        "colab": {
          "base_uri": "https://localhost:8080/"
        },
        "id": "IEc9VsY3kKR1",
        "outputId": "1b799e70-ffbc-43ae-e182-b1c8de4a83e1"
      },
      "execution_count": 56,
      "outputs": [
        {
          "output_type": "execute_result",
          "data": {
            "text/plain": [
              "['komisi x dpr', 'piala dunia u-20', 'pssi']"
            ]
          },
          "metadata": {},
          "execution_count": 56
        }
      ]
    },
    {
      "cell_type": "code",
      "source": [
        "body = soup.findAll('p', {'class': 'detail__body-text itp_bodycontent'})"
      ],
      "metadata": {
        "id": "BtZb0bCbnv5W"
      },
      "execution_count": 81,
      "outputs": []
    },
    {
      "cell_type": "code",
      "source": [
        "paragraphs = [str(p.string) for p in body]"
      ],
      "metadata": {
        "id": "mH1V-_Bcnxzv"
      },
      "execution_count": 109,
      "outputs": []
    },
    {
      "cell_type": "code",
      "source": [
        "paragraphs"
      ],
      "metadata": {
        "colab": {
          "base_uri": "https://localhost:8080/"
        },
        "id": "zQ372pkGpDMa",
        "outputId": "68f4ca5c-eb0c-4e1e-9fbb-bba4c7cfee4e"
      },
      "execution_count": 110,
      "outputs": [
        {
          "output_type": "execute_result",
          "data": {
            "text/plain": [
              "['\\n',\n",
              " 'Jakarta',\n",
              " ' - ',\n",
              " 'None',\n",
              " '\"Nggak jadi (rapat hari ini), kita undur. Erick Thohir-nya nggak bisa hadir, lagi ke luar negeri,\" kata Ketua Komisi X Syaiful Huda kepada wartawan, Selasa (4/4/2023).',\n",
              " 'None',\n",
              " 'Permintaan penundaan rapat disampaikan PSSI melalui surat kepada Komisi X DPR RI. Huda mengatakan belum dapat memastikan kapan rapat akan digelar.',\n",
              " 's:parallaxindetail',\n",
              " 'None',\n",
              " '\\r\\n      @import url(\"https://awscdnstatic.detik.net.id/live/_rmbassets/2022/parallax/parallax.css\");\\r\\n',\n",
              " '\\n',\n",
              " 'None',\n",
              " 'e:parallaxindetail',\n",
              " '\"Iya belum (dipastikan hari penggantinya), semoga secepatnya,\" ujarnya.',\n",
              " 'Sebelumnya, Komisi X DPR RI akan menggelar rapat bersama PSSI hari ini. Rapat tersebut akan membahas batalnya Indonesia sebagai tuan rumah Piala Dunia U-20.',\n",
              " 'None',\n",
              " 'None',\n",
              " 'Menurutnya, Indonesia ada kemungkinan akan menerima sanksi dampak pembatalan tersebut. Namun dia belum dapat memastikan sanksi apa yang akan diterima Indonesia.',\n",
              " 'None',\n",
              " '\"Termasuk apa sih isi surat itu. Sifat balasan dari FIFA itu apa sih. Siapa tau mau buka forum rapat di Komisi X,\" sambung dia.',\n",
              " 'None',\n",
              " 'Saksikan LIVE Video:',\n",
              " 'None',\n",
              " 'Lihat juga Video: Cak Imin Kecewa Pildun U-20 Batal di RI, Desak Evaluasi Sepakbola Nasional',\n",
              " 'None',\n",
              " '[Gambas:Video 20detik]',\n",
              " '\\n',\n",
              " '(amw/haf)',\n",
              " '\\n',\n",
              " 'None',\n",
              " '\\n']"
            ]
          },
          "metadata": {},
          "execution_count": 110
        }
      ]
    },
    {
      "cell_type": "code",
      "source": [
        "(\" \").join(paragraphs)"
      ],
      "metadata": {
        "id": "RpqRF5sBqZ3u"
      },
      "execution_count": null,
      "outputs": []
    },
    {
      "cell_type": "code",
      "source": [
        "def extract_berita(url):\n",
        "  res = req.request('GET', url)\n",
        "  soup = BeautifulSoup(res.data, 'html.parser')\n",
        "\n",
        "  # extract title\n",
        "  title = soup.find('h1').string\n",
        "\n",
        "  # extract author\n",
        "  author = soup.find('div', {'class': 'detail__author'})\n",
        "\n",
        "  # extract newsbody\n",
        "  body = soup.findAll('p')\n",
        "  paragraphs = [str(p.string) for p in body]\n",
        "  par = (\" \").join(paragraphs)\n",
        "\n",
        "  # extract date\n",
        "  article_date = soup.find('div', {'class': 'detail__date'}).string\n",
        "\n",
        "  # extract news tags\n",
        "  news_tags = soup.findAll('a', {'class': 'nav__item'})\n",
        "  news_tags = [tag.string for tag in news_tags]\n",
        "\n",
        "  data = {\n",
        "      'title': title,\n",
        "      'author': author,\n",
        "      'body': par,\n",
        "      'article_date' : article_date,\n",
        "      'news_tags': news_tags\n",
        "  }\n",
        "\n",
        "  return data"
      ],
      "metadata": {
        "id": "5w3stjuikZUU"
      },
      "execution_count": 140,
      "outputs": []
    },
    {
      "cell_type": "code",
      "source": [
        "urls = 'https://news.detik.com/internasional/d-6654440/as-klaim-balon-mata-mata-china-sempat-kirim-informasi-intelijen'\n",
        "berita1 = extract_berita(urls)"
      ],
      "metadata": {
        "id": "XTfWFrQRl5JB"
      },
      "execution_count": null,
      "outputs": []
    },
    {
      "cell_type": "code",
      "source": [
        "berita1"
      ],
      "metadata": {
        "colab": {
          "base_uri": "https://localhost:8080/"
        },
        "id": "3k82a6jTmPQq",
        "outputId": "50d3a1c4-ecce-4ea0-d332-882119d5ddb0"
      },
      "execution_count": 142,
      "outputs": [
        {
          "output_type": "execute_result",
          "data": {
            "text/plain": [
              "{'title': '\\n        AS Klaim Balon Mata-mata China Sempat Kirim Informasi Intelijen    ',\n",
              " 'author': <div class=\"detail__author\">Novi Christiastuti - <span class=\"detail__label\">detikNews</span></div>,\n",
              " 'body': '\\r\\n    ADVERTISEMENT\\r\\n None None Menurut sumber tersebut, balon mata-mata China itu juga mampu mengirimkan kembali informasi ke Beijing secara real time. Namun, pemerintah AS masih tidak mengetahui secara pasti apakah pemerintah China mampu menghapus data balon mata-mata itu setelah menerimanya. \\r\\n    ADVERTISEMENT\\r\\n   \\r\\n        SCROLL TO RESUME CONTENT\\r\\n   Hal itu memicu pertanyaan apakah ada informasi intelijen yang berhasil dikumpulkan oleh balon mata-mata itu yang tidak diketahui oleh Washington. Kendati demikian, sebut sumber itu, komunitas intelijen AS belum terlalu mengkhawatirkan informasi yang mampu dikumpulkan balon mata-mata China tersebut, karena balon mata-mata itu tidak terlalu canggih daripada satelit-satelit Beijing yang mampu mengumpulkan intelijen sembari mengorbit di lokasi yang sama. None Ditambahkan pejabat intelijen itu bahwa AS juga mengetahui rute penerbangan balon mata-mata China itu sehingga mampu melindungi situs-situs sensitif dan menyensor sejumlah sinyal sebelum dikumpulkan oleh balon mata-mata itu. Simak berita selengkapnya di halaman selanjutnya. None Lihat juga Video: Biden soal Balon Mata-mata China: Kami Tak Cari Perang Dingin None [Gambas:Video 20detik] None None \\r\\n   ADVERTISEMENT\\r\\n   \\r\\n   ADVERTISEMENT\\r\\n \\r\\n   ADVERTISEMENT\\r\\n \\r\\n   ADVERTISEMENT\\r\\n',\n",
              " 'article_date': 'Selasa, 04 Apr 2023 09:13 WIB',\n",
              " 'news_tags': ['amerika serikat', 'china', 'balon mata-mata china']}"
            ]
          },
          "metadata": {},
          "execution_count": 142
        }
      ]
    },
    {
      "cell_type": "code",
      "source": [],
      "metadata": {
        "id": "OCQwFt5Vm4Em"
      },
      "execution_count": null,
      "outputs": []
    },
    {
      "cell_type": "markdown",
      "source": [
        "# GET URL Berita"
      ],
      "metadata": {
        "id": "gRTRNVUnvQOA"
      }
    },
    {
      "cell_type": "code",
      "source": [
        "res = req.request('GET', 'https://news.detik.com/indeks')\n",
        "soup = BeautifulSoup(res.data, 'html.parser')"
      ],
      "metadata": {
        "id": "IrTiT9tgvR_p"
      },
      "execution_count": 143,
      "outputs": []
    },
    {
      "cell_type": "code",
      "source": [
        "list_media = soup.findAll('a', {'class': 'media__link'})"
      ],
      "metadata": {
        "id": "mjHM3maRvdJk"
      },
      "execution_count": 147,
      "outputs": []
    },
    {
      "cell_type": "code",
      "source": [
        "list_link = []\n",
        "for media in list_media:\n",
        "  link = media.get('href')\n",
        "  list_link.append(link)"
      ],
      "metadata": {
        "id": "RYR-mDZFveM5"
      },
      "execution_count": 149,
      "outputs": []
    },
    {
      "cell_type": "code",
      "source": [
        "list_link"
      ],
      "metadata": {
        "id": "0xX9kG9Qv39y"
      },
      "execution_count": null,
      "outputs": []
    },
    {
      "cell_type": "code",
      "source": [
        "berita = [extract_berita(link) for link in list_link]"
      ],
      "metadata": {
        "id": "obklS1LgwjaI"
      },
      "execution_count": null,
      "outputs": []
    },
    {
      "cell_type": "code",
      "source": [
        "len(berita)"
      ],
      "metadata": {
        "colab": {
          "base_uri": "https://localhost:8080/"
        },
        "id": "bVgUSXUQxDr1",
        "outputId": "03cd2a1b-c1f4-4145-bfb7-d4ade233f0a8"
      },
      "execution_count": 152,
      "outputs": [
        {
          "output_type": "execute_result",
          "data": {
            "text/plain": [
              "40"
            ]
          },
          "metadata": {},
          "execution_count": 152
        }
      ]
    },
    {
      "cell_type": "code",
      "source": [],
      "metadata": {
        "id": "tyH2uzNFxFJs"
      },
      "execution_count": null,
      "outputs": []
    }
  ]
}